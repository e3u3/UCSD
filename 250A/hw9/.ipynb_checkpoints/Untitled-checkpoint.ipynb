{
 "cells": [
  {
   "cell_type": "code",
   "execution_count": 18,
   "metadata": {
    "collapsed": true
   },
   "outputs": [],
   "source": [
    "from collections import defaultdict\n",
    "import numpy as np"
   ]
  },
  {
   "cell_type": "code",
   "execution_count": 54,
   "metadata": {},
   "outputs": [],
   "source": [
    "with open('data/rewards.txt') as f:\n",
    "    temp=f.read().strip().split()\n",
    "    rewards = np.zeros((81,1),dtype=np.float)\n",
    "    for i in enumerate(temp):\n",
    "        rewards[int(i[0])]=int(i[1])"
   ]
  },
  {
   "cell_type": "code",
   "execution_count": 33,
   "metadata": {},
   "outputs": [],
   "source": [
    "with open('data/prob_a1.txt') as f:\n",
    "    temp=f.readlines()\n",
    "    proba1 = np.zeros((81,81),dtype=np.float)\n",
    "    for i in temp:\n",
    "        t=i.strip().split()\n",
    "        proba1[int(t[0])-1,int(t[1])-1]=float(t[2])"
   ]
  },
  {
   "cell_type": "code",
   "execution_count": 34,
   "metadata": {},
   "outputs": [],
   "source": [
    "with open('data/prob_a2.txt') as f:\n",
    "    temp=f.readlines()\n",
    "    proba2 = np.zeros((81,81),dtype=np.float)\n",
    "    for i in temp:\n",
    "        t=i.strip().split()\n",
    "        proba2[int(t[0])-1,int(t[1])-1]=float(t[2])"
   ]
  },
  {
   "cell_type": "code",
   "execution_count": 35,
   "metadata": {
    "collapsed": true
   },
   "outputs": [],
   "source": [
    "with open('data/prob_a3.txt') as f:\n",
    "    temp=f.readlines()\n",
    "    proba3 = np.zeros((81,81),dtype=np.float)\n",
    "    for i in temp:\n",
    "        t=i.strip().split()\n",
    "        proba3[int(t[0])-1,int(t[1])-1]=float(t[2])"
   ]
  },
  {
   "cell_type": "code",
   "execution_count": 36,
   "metadata": {
    "collapsed": true
   },
   "outputs": [],
   "source": [
    "with open('data/prob_a4.txt') as f:\n",
    "    temp=f.readlines()\n",
    "    proba4 = np.zeros((81,81),dtype=np.float)\n",
    "    for i in temp:\n",
    "        t=i.strip().split()\n",
    "        proba4[int(t[0])-1,int(t[1])-1]=float(t[2])"
   ]
  },
  {
   "cell_type": "code",
   "execution_count": 102,
   "metadata": {},
   "outputs": [
    {
     "name": "stdout",
     "output_type": "stream",
     "text": [
      "1\n",
      "2\n",
      "3\n",
      "4\n",
      "5\n",
      "6\n"
     ]
    }
   ],
   "source": [
    "policy=np.zeros((81,1),dtype=np.int)\n",
    "gamma=0.9925\n",
    "vp=np.zeros((81,1),dtype=np.float)\n",
    "vpbefore=np.ones((81,1),dtype=np.float)\n",
    "ind=1\n",
    "while(abs(max(vp-vpbefore))>0.0001):\n",
    "    print ind\n",
    "    ind+=1\n",
    "    \n",
    "    ppi=np.zeros((81,81),dtype=np.float)\n",
    "    for s in range(81):\n",
    "        for sd in range(81):\n",
    "            if policy[s]==0:\n",
    "                ppi[s,sd]=proba1[s,sd]\n",
    "            if policy[s]==1:\n",
    "                ppi[s,sd]=proba2[s,sd]\n",
    "            if policy[s]==2:\n",
    "                ppi[s,sd]=proba3[s,sd]\n",
    "            if policy[s]==3:\n",
    "                ppi[s,sd]=proba4[s,sd]\n",
    "\n",
    "    vpbefore=vp\n",
    "    vp=np.linalg.inv(np.identity(81)-ppi*gamma).dot(rewards)\n",
    "\n",
    "    for s in range(81):\n",
    "        temp=[]    \n",
    "\n",
    "        sump=0\n",
    "        for sd in range(81):\n",
    "            sump+=proba1[s,sd]*vp[sd,0]\n",
    "        temp.append(sump)\n",
    "\n",
    "        sump=0\n",
    "        for sd in range(81):\n",
    "            sump+=proba2[s,sd]*vp[sd,0]\n",
    "        temp.append(sump)\n",
    "\n",
    "        sump=0\n",
    "        for sd in range(81):\n",
    "            sump+=proba3[s,sd]*vp[sd,0]\n",
    "        temp.append(sump)\n",
    "\n",
    "        sump=0\n",
    "        for sd in range(81):\n",
    "            sump+=proba4[s,sd]*vp[sd,0]\n",
    "        temp.append(sump)\n",
    "\n",
    "        policy[s,0]=temp.index(max(temp))"
   ]
  },
  {
   "cell_type": "code",
   "execution_count": 123,
   "metadata": {},
   "outputs": [
    {
     "ename": "IndexError",
     "evalue": "tuple index out of range",
     "output_type": "error",
     "traceback": [
      "\u001b[0;31m---------------------------------------------------------------------------\u001b[0m",
      "\u001b[0;31mIndexError\u001b[0m                                Traceback (most recent call last)",
      "\u001b[0;32m<ipython-input-123-2f5f2d9e99e6>\u001b[0m in \u001b[0;36m<module>\u001b[0;34m()\u001b[0m\n\u001b[1;32m      2\u001b[0m \u001b[0;32mfor\u001b[0m \u001b[0mi\u001b[0m \u001b[0;32min\u001b[0m \u001b[0mrange\u001b[0m\u001b[0;34m(\u001b[0m\u001b[0;36m9\u001b[0m\u001b[0;34m)\u001b[0m\u001b[0;34m:\u001b[0m\u001b[0;34m\u001b[0m\u001b[0m\n\u001b[1;32m      3\u001b[0m     \u001b[0;32mfor\u001b[0m \u001b[0mj\u001b[0m \u001b[0;32min\u001b[0m \u001b[0mrange\u001b[0m\u001b[0;34m(\u001b[0m\u001b[0;36m9\u001b[0m\u001b[0;34m)\u001b[0m\u001b[0;34m:\u001b[0m\u001b[0;34m\u001b[0m\u001b[0m\n\u001b[0;32m----> 4\u001b[0;31m         \u001b[0;32mprint\u001b[0m \u001b[0;34m'{10.3f}'\u001b[0m\u001b[0;34m.\u001b[0m\u001b[0mformat\u001b[0m\u001b[0;34m(\u001b[0m\u001b[0mvt\u001b[0m\u001b[0;34m[\u001b[0m\u001b[0mi\u001b[0m\u001b[0;34m,\u001b[0m\u001b[0mj\u001b[0m\u001b[0;34m]\u001b[0m\u001b[0;34m)\u001b[0m\u001b[0;34m,\u001b[0m\u001b[0;34m\u001b[0m\u001b[0m\n\u001b[0m\u001b[1;32m      5\u001b[0m     \u001b[0;32mprint\u001b[0m\u001b[0;34m\u001b[0m\u001b[0m\n",
      "\u001b[0;31mIndexError\u001b[0m: tuple index out of range"
     ]
    }
   ],
   "source": [
    "vt=vp.reshape((9,9)).transpose()\n",
    "for i in range(9):\n",
    "    for j in range(9):\n",
    "        print '{:.4}'.format(vt[i,j]),\n",
    "    print"
   ]
  },
  {
   "cell_type": "code",
   "execution_count": 118,
   "metadata": {},
   "outputs": [
    {
     "name": "stdout",
     "output_type": "stream",
     "text": [
      "0.000 0.000 0.000 0.000 0.000 0.000 0.000 0.000 0.000 \n",
      "\n",
      "0.000 102.375 103.235 104.101 0.000 -133.333 81.399 -133.333 0.000 \n",
      "\n",
      "100.701 101.524 0.000 104.975 103.781 90.985 93.672 81.399 0.000 \n",
      "\n",
      "0.000 0.000 106.778 105.889 0.000 -133.333 95.173 -133.333 0.000 \n",
      "\n",
      "0.000 0.000 107.675 0.000 0.000 0.000 108.343 0.000 0.000 \n",
      "\n",
      "0.000 109.490 108.578 0.000 0.000 -133.333 109.584 -133.333 0.000 \n",
      "\n",
      "0.000 110.409 0.000 114.163 115.122 116.088 123.643 125.250 133.333 \n",
      "\n",
      "0.000 111.336 112.270 113.213 0.000 122.025 123.182 124.207 0.000 \n",
      "\n",
      "0.000 0.000 0.000 0.000 0.000 0.000 0.000 0.000 0.000 \n",
      "\n"
     ]
    }
   ],
   "source": [
    "for i in vp.reshape((9,9)).transpose().tolist():\n",
    "    for j in i:\n",
    "        print '{0:.3f}'.format(j),\n",
    "    print '\\n'"
   ]
  },
  {
   "cell_type": "code",
   "execution_count": 104,
   "metadata": {
    "scrolled": true
   },
   "outputs": [
    {
     "name": "stdout",
     "output_type": "stream",
     "text": [
      "1 \t0.0 \t\t0\n",
      "2 \t0.0 \t\t0\n",
      "3 \t100.700980727 \t\t2\n",
      "4 \t0.0 \t\t0\n",
      "5 \t0.0 \t\t0\n",
      "6 \t0.0 \t\t0\n",
      "7 \t0.0 \t\t0\n",
      "8 \t0.0 \t\t0\n",
      "9 \t0.0 \t\t0\n",
      "10 \t0.0 \t\t0\n",
      "11 \t102.375264401 \t\t2\n",
      "12 \t101.523645149 \t\t1\n",
      "13 \t0.0 \t\t0\n",
      "14 \t0.0 \t\t0\n",
      "15 \t109.489934536 \t\t3\n",
      "16 \t110.409032962 \t\t3\n",
      "17 \t111.335846634 \t\t2\n",
      "18 \t0.0 \t\t0\n",
      "19 \t0.0 \t\t0\n",
      "20 \t103.234623416 \t\t2\n",
      "21 \t0.0 \t\t0\n",
      "22 \t106.77826755 \t\t3\n",
      "23 \t107.674626429 \t\t3\n",
      "24 \t108.578487117 \t\t0\n",
      "25 \t0.0 \t\t0\n",
      "26 \t112.270440318 \t\t2\n",
      "27 \t0.0 \t\t0\n",
      "28 \t0.0 \t\t0\n",
      "29 \t104.101212043 \t\t3\n",
      "30 \t104.975075555 \t\t3\n",
      "31 \t105.88853591 \t\t0\n",
      "32 \t0.0 \t\t0\n",
      "33 \t0.0 \t\t0\n",
      "34 \t114.163229503 \t\t2\n",
      "35 \t113.212879322 \t\t1\n",
      "36 \t0.0 \t\t0\n",
      "37 \t0.0 \t\t0\n",
      "38 \t0.0 \t\t0\n",
      "39 \t103.781407374 \t\t0\n",
      "40 \t0.0 \t\t0\n",
      "41 \t0.0 \t\t0\n",
      "42 \t0.0 \t\t0\n",
      "43 \t115.121557269 \t\t2\n",
      "44 \t0.0 \t\t0\n",
      "45 \t0.0 \t\t0\n",
      "46 \t0.0 \t\t0\n",
      "47 \t-133.333333333 \t\t0\n",
      "48 \t90.9853796009 \t\t0\n",
      "49 \t-133.333333333 \t\t0\n",
      "50 \t0.0 \t\t0\n",
      "51 \t-133.333333333 \t\t0\n",
      "52 \t116.087929588 \t\t2\n",
      "53 \t122.024912415 \t\t2\n",
      "54 \t0.0 \t\t0\n",
      "55 \t0.0 \t\t0\n",
      "56 \t81.3994927813 \t\t3\n",
      "57 \t93.6716558331 \t\t3\n",
      "58 \t95.1728572646 \t\t3\n",
      "59 \t108.342619343 \t\t3\n",
      "60 \t109.583650718 \t\t3\n",
      "61 \t123.643070208 \t\t2\n",
      "62 \t123.1822391 \t\t2\n",
      "63 \t0.0 \t\t0\n",
      "64 \t0.0 \t\t0\n",
      "65 \t-133.333333333 \t\t0\n",
      "66 \t81.3994927813 \t\t0\n",
      "67 \t-133.333333333 \t\t0\n",
      "68 \t0.0 \t\t0\n",
      "69 \t-133.333333333 \t\t0\n",
      "70 \t125.249789436 \t\t2\n",
      "71 \t124.207385633 \t\t1\n",
      "72 \t0.0 \t\t0\n",
      "73 \t0.0 \t\t0\n",
      "74 \t0.0 \t\t0\n",
      "75 \t0.0 \t\t0\n",
      "76 \t0.0 \t\t0\n",
      "77 \t0.0 \t\t0\n",
      "78 \t0.0 \t\t0\n",
      "79 \t133.333333333 \t\t0\n",
      "80 \t0.0 \t\t0\n",
      "81 \t0.0 \t\t0\n"
     ]
    }
   ],
   "source": [
    "for i in range(vp.shape[0]):\n",
    "    print i+1,'\\t',vp[i,0],'\\t\\t',policy[i,0]"
   ]
  },
  {
   "cell_type": "code",
   "execution_count": 101,
   "metadata": {},
   "outputs": [
    {
     "name": "stdout",
     "output_type": "stream",
     "text": [
      "[0, 0, 0, 0, 0, 0, 0, 0, 0]\n",
      "[0, 2, 2, 3, 0, 0, 3, 0, 0]\n",
      "[2, 1, 0, 3, 0, 0, 3, 0, 0]\n",
      "[0, 0, 3, 0, 0, 0, 3, 0, 0]\n",
      "[0, 0, 3, 0, 0, 0, 3, 0, 0]\n",
      "[0, 3, 0, 0, 0, 0, 3, 0, 0]\n",
      "[0, 3, 0, 2, 2, 2, 2, 2, 0]\n",
      "[0, 2, 2, 1, 0, 2, 2, 1, 0]\n",
      "[0, 0, 0, 0, 0, 0, 0, 0, 0]\n"
     ]
    }
   ],
   "source": [
    "for i in policy.reshape((9,9)).transpose().tolist():\n",
    "    print map(int,i)"
   ]
  },
  {
   "cell_type": "code",
   "execution_count": null,
   "metadata": {
    "collapsed": true
   },
   "outputs": [],
   "source": [
    "policy=np.zeros((81,1),dtype=np.int)\n",
    "gamma=0.9925\n",
    "vp=np.zeros((81,1),dtype=np.float)\n",
    "vpbefore=np.ones((81,1),dtype=np.float)\n",
    "ind=1\n",
    "\n",
    "while(abs(max(vp-vpbefore))>0.01):\n",
    "    print ind\n",
    "    ind+=1\n",
    "    \n",
    "    "
   ]
  }
 ],
 "metadata": {
  "kernelspec": {
   "display_name": "Python 2",
   "language": "python",
   "name": "python2"
  },
  "language_info": {
   "codemirror_mode": {
    "name": "ipython",
    "version": 2
   },
   "file_extension": ".py",
   "mimetype": "text/x-python",
   "name": "python",
   "nbconvert_exporter": "python",
   "pygments_lexer": "ipython2",
   "version": "2.7.14"
  }
 },
 "nbformat": 4,
 "nbformat_minor": 2
}

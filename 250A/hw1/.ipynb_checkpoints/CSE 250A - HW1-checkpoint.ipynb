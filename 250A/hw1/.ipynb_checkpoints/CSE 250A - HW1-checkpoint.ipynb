{
 "cells": [
  {
   "cell_type": "markdown",
   "metadata": {},
   "source": [
    "# Srinath Narayanan - A53213478\n",
    "Code for 250A - HW1\n",
    "\n",
    "10-10-2017"
   ]
  },
  {
   "cell_type": "markdown",
   "metadata": {},
   "source": [
    "# Hangman"
   ]
  },
  {
   "cell_type": "code",
   "execution_count": 1,
   "metadata": {
    "collapsed": true
   },
   "outputs": [],
   "source": [
    "import string\n",
    "import operator\n",
    "from collections import defaultdict"
   ]
  },
  {
   "cell_type": "markdown",
   "metadata": {},
   "source": [
    "## Reads data"
   ]
  },
  {
   "cell_type": "code",
   "execution_count": 2,
   "metadata": {
    "collapsed": true
   },
   "outputs": [],
   "source": [
    "r = open('hw1_word_counts_05.txt','r')\n",
    "r.seek(0)\n",
    "corpus = r.readlines()"
   ]
  },
  {
   "cell_type": "markdown",
   "metadata": {},
   "source": [
    "## Computes prior probabilities"
   ]
  },
  {
   "cell_type": "code",
   "execution_count": 3,
   "metadata": {
    "collapsed": true
   },
   "outputs": [],
   "source": [
    "cosplit = [i.strip().split() for i in corpus]\n",
    "word_count = defaultdict(int)\n",
    "for i,j in cosplit:\n",
    "    word_count[i]=int(j)"
   ]
  },
  {
   "cell_type": "code",
   "execution_count": 4,
   "metadata": {
    "collapsed": true
   },
   "outputs": [],
   "source": [
    "word_probabilities = word_count.copy()\n",
    "sumcounts = sum(word_count.values())\n",
    "for i in word_probabilities:\n",
    "    word_probabilities[i]=word_probabilities[i]*1.0/sumcounts"
   ]
  },
  {
   "cell_type": "code",
   "execution_count": 5,
   "metadata": {},
   "outputs": [
    {
     "name": "stdout",
     "output_type": "stream",
     "text": [
      "Total #unique words :  6535 \n",
      "Total words :  7664857\n"
     ]
    }
   ],
   "source": [
    "print \"Total #unique words : \",len(word_count),\"\\nTotal words : \",sumcounts"
   ]
  },
  {
   "cell_type": "code",
   "execution_count": 6,
   "metadata": {},
   "outputs": [
    {
     "name": "stdout",
     "output_type": "stream",
     "text": [
      "14 least frequent 5-letter words along with their counts:\n",
      "TROUP 6\n",
      "MAPCO 6\n",
      "CAIXA 6\n",
      "OTTIS 6\n",
      "BOSAK 6\n",
      "NIAID 7\n",
      "YALOM 7\n",
      "SERNA 7\n",
      "CLEFT 7\n",
      "CCAIR 7\n",
      "FOAMY 7\n",
      "PAXON 7\n",
      "TOCOR 7\n",
      "FABRI 7\n",
      "\n",
      "15 most frequent 5-letter words along with their counts :\n",
      "SIXTY 73086\n",
      "THERE 86502\n",
      "YEARS 88900\n",
      "FORTY 94951\n",
      "OTHER 106052\n",
      "FIFTY 106869\n",
      "FIRST 109957\n",
      "AFTER 110102\n",
      "WHICH 142146\n",
      "THEIR 145434\n",
      "ABOUT 157448\n",
      "WOULD 159875\n",
      "EIGHT 165764\n",
      "SEVEN 178842\n",
      "THREE 273077\n"
     ]
    }
   ],
   "source": [
    "sorted_dict = sorted(word_count.items(), key=operator.itemgetter(1))\n",
    "print \"14 least frequent 5-letter words along with their counts:\"\n",
    "for i in sorted_dict[:14]:\n",
    "    print i[0],i[1]\n",
    "print \"\\n15 most frequent 5-letter words along with their counts :\"\n",
    "for i in sorted_dict[-15:]:\n",
    "    print i[0],i[1]"
   ]
  },
  {
   "cell_type": "markdown",
   "metadata": {},
   "source": [
    "The above results do make sense, since we see that the least frequent words are mostly typos or proper nouns, and the most frequent words are numbers and pronouns, which is exactly what we can expect in a large corpus of words."
   ]
  },
  {
   "cell_type": "markdown",
   "metadata": {},
   "source": [
    "## Creates place-holder for included and excluded words"
   ]
  },
  {
   "cell_type": "code",
   "execution_count": 7,
   "metadata": {
    "collapsed": true
   },
   "outputs": [],
   "source": [
    "def create_given():\n",
    "    for word in word_count :\n",
    "        for i in range(5) :\n",
    "            if ((correct[i]!= word[i]) and (correct[i]!=' ')):\n",
    "                exclude[word] = word_count[word]\n",
    "                break\n",
    "\n",
    "    for word in word_count :\n",
    "        dele = 0\n",
    "        for a in range(5) :\n",
    "            for b in range(len(inc[a])) :\n",
    "                if inc[a][b]==word[a] :\n",
    "                    exclude[word] = word_count[word]\n",
    "                    dele = 1\n",
    "                    break\n",
    "            if dele == 1:\n",
    "                dele = 0\n",
    "                break\n",
    "            \n",
    "    for z in word_count :\n",
    "        if z not in exclude :\n",
    "            given[z] = word_count[z]\n"
   ]
  },
  {
   "cell_type": "markdown",
   "metadata": {},
   "source": [
    "## Filtering out unwanted words for ease in probability calculation"
   ]
  },
  {
   "cell_type": "code",
   "execution_count": 8,
   "metadata": {
    "collapsed": true
   },
   "outputs": [],
   "source": [
    "def create_incorrect():\n",
    "    for x in range(len(incorrect)):\n",
    "        for y in range(5) :\n",
    "            if y in inc:\n",
    "                inc[y].append(incorrect[x])\n",
    "            else :\n",
    "                inc[y] = [incorrect[x]]\n",
    "    for m in range(len(correct)) :\n",
    "        for n in range(5) :\n",
    "            if m!=n and correct[m]!=correct[n] :\n",
    "                if n in inc:\n",
    "                    if correct[m]!= ' ':\n",
    "                        inc[n].append(correct[m])\n",
    "                else :\n",
    "                    if correct[m]!= ' ':\n",
    "                        inc[n] = [correct[m]]"
   ]
  },
  {
   "cell_type": "markdown",
   "metadata": {},
   "source": [
    "## Next guess probability computation"
   ]
  },
  {
   "cell_type": "code",
   "execution_count": 9,
   "metadata": {
    "collapsed": true
   },
   "outputs": [],
   "source": [
    "def best_next_guess():\n",
    "    prob_evi_given_word = {}\n",
    "    for word in word_count :\n",
    "        if word in given :\n",
    "            prob_evi_given_word[word] = 1\n",
    "        else :\n",
    "            prob_evi_given_word[word] = 0\n",
    "\n",
    "    denominator_1 = sum((prob_evi_given_word[word] * word_probabilities[word]) for word in word_count)\n",
    "    prob_word_given_evi = {}\n",
    "    for word in word_count :\n",
    "        prob_word_given_evi[word] = float((prob_evi_given_word[word]*word_probabilities[word])/denominator_1)\n",
    "\n",
    "    alphabet = {'A':0, 'B':0, 'C':0, 'D':0, 'E':0, 'F':0, 'G':0, 'H':0, 'I':0, 'J':0, 'K':0, 'L':0, 'M':0, 'N':0, 'O':0, 'P':0, 'Q':0, 'R':0, 'S':0, 'T':0, 'U':0, 'V':0, 'W':0, 'X':0, 'Y':0, 'Z':0}\n",
    "    for word in word_count:\n",
    "        for letter in alphabet :\n",
    "            if letter in word :\n",
    "                alphabet[letter]+=prob_word_given_evi[word]    \n",
    "\n",
    "    for x in correct :\n",
    "        if x in alphabet :\n",
    "            del alphabet[x]\n",
    "\n",
    "    alphabet_sort = sorted(alphabet.items(), key=operator.itemgetter(1))\n",
    "\n",
    "    print(\"Next Best Guess is \",alphabet_sort[-1][0])\n",
    "    print(\"Probability of that is \",float(alphabet_sort[-1][1]))"
   ]
  },
  {
   "cell_type": "code",
   "execution_count": null,
   "metadata": {},
   "outputs": [
    {
     "name": "stdout",
     "output_type": "stream",
     "text": [
      "\n",
      " Enter correct characters (Enter 5 characters and use Space to denote if character not filled till now :)     \n",
      "Enter incorrect characters : EO\n",
      "('Next Best Guess is ', 'I')\n",
      "('Probability of that is ', 0.6365554141009606)\n",
      "\n",
      " Enter correct characters (Enter 5 characters and use Space to denote if character not filled till now :)D  I \n",
      "Enter incorrect characters : \n",
      "('Next Best Guess is ', 'T')\n",
      "('Probability of that is ', 0.485750087785411)\n",
      "\n",
      " Enter correct characters (Enter 5 characters and use Space to denote if character not filled till now :)D  I \n",
      "Enter incorrect characters : E\n",
      "('Next Best Guess is ', 'T')\n",
      "('Probability of that is ', 0.485750087785411)\n"
     ]
    }
   ],
   "source": [
    "inc = {0:[],1:[],2:[],3:[],4:[]}\n",
    "exclude,given = {},{}\n",
    "\n",
    "correct = []\n",
    "incorrect=[]\n",
    "while len(correct)!=5 :\n",
    "    correct = raw_input ('\\n Enter correct characters (Enter 5 characters and use Space to denote if character not filled till now :)')\n",
    "    if len(correct)!=5 :\n",
    "        print(\"Correct Character Length not 5, Please try again\")\n",
    "incorrect = raw_input('Enter incorrect characters : ')\n",
    "\n",
    "create_incorrect()\n",
    "create_given()\n",
    "best_next_guess()"
   ]
  },
  {
   "cell_type": "code",
   "execution_count": null,
   "metadata": {
    "collapsed": true
   },
   "outputs": [],
   "source": []
  }
 ],
 "metadata": {
  "kernelspec": {
   "display_name": "Python 2",
   "language": "python",
   "name": "python2"
  },
  "language_info": {
   "codemirror_mode": {
    "name": "ipython",
    "version": 2
   },
   "file_extension": ".py",
   "mimetype": "text/x-python",
   "name": "python",
   "nbconvert_exporter": "python",
   "pygments_lexer": "ipython2",
   "version": "2.7.13"
  }
 },
 "nbformat": 4,
 "nbformat_minor": 2
}

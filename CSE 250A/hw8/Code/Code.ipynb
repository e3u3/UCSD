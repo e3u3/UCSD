{
 "cells": [
  {
   "cell_type": "code",
   "execution_count": 364,
   "metadata": {
    "collapsed": true
   },
   "outputs": [],
   "source": [
    "import numpy as np\n",
    "from collections import defaultdict\n",
    "import math"
   ]
  },
  {
   "cell_type": "code",
   "execution_count": 365,
   "metadata": {
    "collapsed": true
   },
   "outputs": [],
   "source": [
    "with open('data/hw8_movieTitles.txt','r') as f:\n",
    "    movies=f.read().split()\n",
    "with open('data/hw8_studentPIDs.txt','r') as f:\n",
    "    students=f.read().split()"
   ]
  },
  {
   "cell_type": "code",
   "execution_count": 366,
   "metadata": {
    "collapsed": true
   },
   "outputs": [],
   "source": [
    "ratings=[]\n",
    "count=0\n",
    "with open('data/hw8_ratings.txt','r') as f:\n",
    "    temp=f.read().split('\\n')\n",
    "    for i in temp:\n",
    "        i=i.replace('?','-1')\n",
    "        temp1 = i.strip().split(' ')\n",
    "        temp1=[int(j) for j in temp1]\n",
    "        ratings.append(temp1)\n",
    "lratings=ratings\n",
    "ratings=np.matrix(ratings)"
   ]
  },
  {
   "cell_type": "code",
   "execution_count": 367,
   "metadata": {
    "collapsed": true
   },
   "outputs": [],
   "source": [
    "vis = defaultdict(list)\n",
    "for i,j in enumerate(lratings):\n",
    "    vis[i]=[]\n",
    "    for k in range(len(j)):\n",
    "        if j[k]==1 or j[k]==0:\n",
    "            vis[i].append(k)"
   ]
  },
  {
   "cell_type": "code",
   "execution_count": 368,
   "metadata": {
    "scrolled": true
   },
   "outputs": [
    {
     "name": "stdout",
     "output_type": "stream",
     "text": [
      "Fifty_Shades_of_Grey                          0.331\n",
      "The_Last_Airbender                            0.357\n",
      "Magic_Mike                                    0.525\n",
      "Prometheus                                    0.544\n",
      "Bridemaids                                    0.556\n",
      "World_War_Z                                   0.590\n",
      "Man_of_Steel                                  0.592\n",
      "Mad_Max:_Fury_Road                            0.633\n",
      "Drive                                         0.636\n",
      "Thor                                          0.665\n",
      "Pitch_Perfect                                 0.667\n",
      "The_Hunger_Games                              0.671\n",
      "Fast_Five                                     0.678\n",
      "The_Hateful_Eight                             0.683\n",
      "Iron_Man_2                                    0.692\n",
      "The_Perks_of_Being_a_Wallflower               0.695\n",
      "American_Hustle                               0.716\n",
      "The_Help                                      0.725\n",
      "Avengers:_Age_of_Ultron                       0.730\n",
      "21_Jump_Street                                0.736\n",
      "Captain_America:_The_First_Avenger            0.736\n",
      "Les_Miserables                                0.745\n",
      "Star_Wars:_The_Force_Awakens                  0.749\n",
      "Jurassic_World                                0.754\n",
      "The_Great_Gatsby                              0.755\n",
      "X-Men:_First_Class                            0.764\n",
      "The_Revenant                                  0.767\n",
      "Her                                           0.779\n",
      "Ex_Machina                                    0.786\n",
      "Room                                          0.786\n",
      "Django_Unchained                              0.789\n",
      "The_Girls_with_the_Dragon_Tattoo              0.789\n",
      "Frozen                                        0.790\n",
      "Midnight_in_Paris                             0.798\n",
      "The_Avengers                                  0.801\n",
      "Wolf_of_Wall_Street                           0.804\n",
      "Harry_Potter_and_the_Deathly_Hallows:_Part_1  0.804\n",
      "Black_Swan                                    0.810\n",
      "Toy_Story_3                                   0.810\n",
      "Harry_Potter_and_the_Deathly_Hallows:_Part_2  0.832\n",
      "Gone_Girl                                     0.839\n",
      "The_Theory_of_Everything                      0.841\n",
      "12_Years_a_Slave                              0.841\n",
      "Now_You_See_Me                                0.861\n",
      "The_Social_Network                            0.894\n",
      "The_Martian                                   0.901\n",
      "Shutter_Island                                0.908\n",
      "Interstellar                                  0.914\n",
      "The_Dark_Knight_Rises                         0.926\n",
      "Inception                                     0.996\n"
     ]
    }
   ],
   "source": [
    "ls=len(students)\n",
    "lm=len(movies)\n",
    "moviepop=[]\n",
    "for i in range(lm):\n",
    "    temp=ratings[:,i].flatten().tolist()[0]\n",
    "    moviepop.append(temp.count(1)*1.0/(temp.count(1)+temp.count(0)))\n",
    "moviespopular=sorted(zip(moviepop,movies),key=lambda i:i[0])\n",
    "for i in moviespopular:\n",
    "    print '{0:45s} {1:.3f}'.format(i[1],i[0])    "
   ]
  },
  {
   "cell_type": "code",
   "execution_count": 369,
   "metadata": {
    "collapsed": true
   },
   "outputs": [],
   "source": [
    "priorZ=[]\n",
    "with open('data/hw8_probZ_init.txt','r') as f:\n",
    "    temp=f.read().strip().split('\\n')\n",
    "    for i in temp:\n",
    "        priorZ.append(float(i)) "
   ]
  },
  {
   "cell_type": "code",
   "execution_count": 370,
   "metadata": {
    "collapsed": true
   },
   "outputs": [],
   "source": [
    "rgz=[]\n",
    "with open('data/hw8_probRgivenZ_init.txt','r') as f:\n",
    "    temp=f.read().strip().split('\\n')\n",
    "    for i in temp:\n",
    "        rgz.append([float(k) for k in i.split()])\n",
    "#rgz=np.matrix(rgz)"
   ]
  },
  {
   "cell_type": "code",
   "execution_count": 371,
   "metadata": {
    "collapsed": true
   },
   "outputs": [],
   "source": [
    "pzt=defaultdict()\n",
    "for i in range(len(students)):\n",
    "    pzt[i]=defaultdict()\n",
    "    for j in range(len(priorZ)):\n",
    "        pzt[i][j]=priorZ[j]\n",
    "\n",
    "rgzd=defaultdict()\n",
    "for i in range(len(movies)):\n",
    "    rgzd[i]=defaultdict()\n",
    "    for j in range(len(priorZ)):\n",
    "        rgzd[i][j]=rgz[i][j]"
   ]
  },
  {
   "cell_type": "code",
   "execution_count": 373,
   "metadata": {
    "collapsed": true
   },
   "outputs": [],
   "source": [
    "priorZ={0:0.25,1:0.25,2:0.25,3:0.25}"
   ]
  },
  {
   "cell_type": "markdown",
   "metadata": {},
   "source": [
    "for i in rgzd:\n",
    "    for k in rgzd[i]:\n",
    "        tmp=0\n",
    "        for p in range(len(movies)):\n",
    "            if p in viz[i]:\n",
    "                if ratings[i][p]==1:\n",
    "                    tmp+=pzt[k][i]\n",
    "            else:\n",
    "                tmp+=pzt[k][i]*rgzd[p][k]\n",
    "        rgzd[i][k]=temp/len(students)/priorZ[k]"
   ]
  },
  {
   "cell_type": "code",
   "execution_count": 374,
   "metadata": {
    "collapsed": true
   },
   "outputs": [],
   "source": [
    "import copy\n",
    "\n",
    "def estep(priorZ,pzt,rgzd,vis):\n",
    "    priorzt=defaultdict()\n",
    "    for i in vis:\n",
    "        temp1=0\n",
    "        priorzt[i]=defaultdict()\n",
    "        for j in priorZ:\n",
    "            temp=priorZ[j]*1.0\n",
    "            for k in vis[i]:\n",
    "                if(ratings[i,k]==1):\n",
    "                    temp*=rgzd[k][j]\n",
    "                elif(ratings[i,k]==0):\n",
    "                    temp*=(1-rgzd[k][j])\n",
    "                else:\n",
    "                    print \"Fatal error\"\n",
    "                    return 0\n",
    "            temp1+=temp\n",
    "            priorzt[i][j]=temp\n",
    "\n",
    "        for g in priorzt[i]:\n",
    "            priorzt[i][g]/=temp1*1.0\n",
    "        \n",
    "    return priorZ,pzt,rgzd,vis,priorzt\n",
    "    \n",
    "    \n",
    "def mstep(priorZ,pzt,rgzd,vis,priorzt):          \n",
    "    \n",
    "    divider=defaultdict()\n",
    "    for j in priorZ:\n",
    "        temp=0 \n",
    "        for i in priorzt:\n",
    "            temp+=priorzt[i][j]\n",
    "        priorZ[j]=temp*1.0/len(students)\n",
    "        divider[j]=temp\n",
    "        \n",
    "    old_rgzd = copy.deepcopy(rgzd)\n",
    "    for i in rgzd:\n",
    "        for p in rgzd[i]:\n",
    "            rgzd[i][p]=0\n",
    "            for t in vis:\n",
    "                if(i in vis[t] and ratings[t,i]==1):\n",
    "                    rgzd[i][p]+=priorzt[t][p]*1.0\n",
    "                elif(i not in vis[t]):\n",
    "                    rgzd[i][p]+=priorzt[t][p]*old_rgzd[i][p]*1.0\n",
    "            rgzd[i][p]/=divider[p]*1.0\n",
    "\n",
    "    return priorZ,pzt,rgzd,vis\n",
    "\n",
    "def ll(priorZ,pzt,rgzd,vis):\n",
    "    temp2=0\n",
    "    for i in vis:\n",
    "        temp1=0\n",
    "        for j in priorZ:\n",
    "            temp=priorZ[j]*1.0\n",
    "            for k in vis[i]:\n",
    "                if(ratings[i,k]==1):\n",
    "                    temp*=rgzd[k][j]\n",
    "                elif(ratings[i,k]==0):\n",
    "                    temp*=(1-rgzd[k][j])\n",
    "                else:\n",
    "                    print \"Fatal error\"\n",
    "                    return 0\n",
    "            temp1+=temp\n",
    "        temp2+=math.log(temp1)\n",
    "    return temp2/len(students)"
   ]
  },
  {
   "cell_type": "code",
   "execution_count": 384,
   "metadata": {
    "scrolled": true
   },
   "outputs": [
    {
     "name": "stdout",
     "output_type": "stream",
     "text": [
      "0 \t-11.5401291391\n",
      "1 \t-11.5400122462\n",
      "2 \t-11.5399045735\n",
      "3 \t-11.5398059102\n",
      "4 \t-11.539715952\n",
      "5 \t-11.539634305\n",
      "6 \t-11.5395604976\n",
      "7 \t-11.5394939967\n",
      "8 \t-11.5394342262\n",
      "9 \t-11.5393805866\n",
      "10 \t-11.5393324754\n",
      "11 \t-11.5392893053\n",
      "12 \t-11.5392505186\n",
      "13 \t-11.5392155983\n",
      "14 \t-11.5391840745\n",
      "15 \t-11.5391555275\n",
      "16 \t-11.5391295874\n",
      "17 \t-11.5391059325\n",
      "18 \t-11.5390842853\n",
      "19 \t-11.5390644086\n",
      "20 \t-11.5390461004\n",
      "21 \t-11.5390291896\n",
      "22 \t-11.5390135312\n",
      "23 \t-11.5389990026\n",
      "24 \t-11.5389854991\n",
      "25 \t-11.5389729316\n",
      "26 \t-11.538961223\n",
      "27 \t-11.5389503064\n",
      "28 \t-11.5389401229\n",
      "29 \t-11.5389306199\n",
      "30 \t-11.5389217501\n",
      "31 \t-11.5389134705\n",
      "32 \t-11.5389057413\n",
      "33 \t-11.5388985258\n",
      "34 \t-11.5388917895\n",
      "35 \t-11.5388855\n",
      "36 \t-11.5388796268\n",
      "37 \t-11.5388741411\n",
      "38 \t-11.5388690155\n",
      "39 \t-11.5388642243\n",
      "40 \t-11.538859743\n",
      "41 \t-11.5388555487\n",
      "42 \t-11.5388516197\n",
      "43 \t-11.5388479354\n",
      "44 \t-11.5388444768\n",
      "45 \t-11.5388412259\n",
      "46 \t-11.5388381659\n",
      "47 \t-11.538835281\n",
      "48 \t-11.5388325567\n",
      "49 \t-11.5388299793\n",
      "50 \t-11.5388275362\n",
      "51 \t-11.5388252156\n",
      "52 \t-11.5388230065\n",
      "53 \t-11.538820899\n",
      "54 \t-11.5388188836\n",
      "55 \t-11.5388169517\n",
      "56 \t-11.5388150952\n",
      "57 \t-11.5388133067\n",
      "58 \t-11.5388115792\n",
      "59 \t-11.5388099063\n",
      "60 \t-11.538808282\n",
      "61 \t-11.5388067008\n",
      "62 \t-11.5388051574\n",
      "63 \t-11.5388036469\n"
     ]
    }
   ],
   "source": [
    "for ite in range(64):\n",
    "    print ite,'\\t',ll(priorZ,pzt,rgzd,vis)\n",
    "    priorZ,pzt,rgzd,vis,priorzt=estep(priorZ,pzt,rgzd,vis)\n",
    "    priorZ,pzt,rgzd,vis=mstep(priorZ,pzt,rgzd,vis,priorzt)"
   ]
  },
  {
   "cell_type": "code",
   "execution_count": 405,
   "metadata": {
    "collapsed": true
   },
   "outputs": [],
   "source": [
    "def reco(priorZ,pzt,rgzd,vis,priorzt):\n",
    "    temp1=0\n",
    "    i=42\n",
    "    ptemp=defaultdict()\n",
    "    for j in priorZ:\n",
    "        temp=priorZ[j]*1.0\n",
    "        for k in vis[i]:\n",
    "            if(ratings[i,k]==1):\n",
    "                temp*=rgzd[k][j]\n",
    "            elif(ratings[i,k]==0):\n",
    "                temp*=(1-rgzd[k][j])\n",
    "            else:\n",
    "                print \"Fatal error\"\n",
    "                return 0\n",
    "        temp1+=temp\n",
    "        ptemp[j]=temp\n",
    "\n",
    "    for g in ptemp:\n",
    "        ptemp[g]/=temp1*1.0\n",
    "        \n",
    "    moviesreco=defaultdict()\n",
    "    for li in range(50):\n",
    "        if(li not in vis[i]):\n",
    "            temp=0\n",
    "            for k in priorZ:\n",
    "                temp+=ptemp[k]*rgzd[li][k]\n",
    "            moviesreco[li]=temp\n",
    "    return moviesreco"
   ]
  },
  {
   "cell_type": "code",
   "execution_count": 406,
   "metadata": {},
   "outputs": [],
   "source": [
    "moviesr = reco(priorZ,pzt,rgzd,vis,priorzt)"
   ]
  },
  {
   "cell_type": "code",
   "execution_count": 419,
   "metadata": {},
   "outputs": [
    {
     "name": "stdout",
     "output_type": "stream",
     "text": [
      "American_Hustle                                    with probability :   0.887529\n",
      "Les_Miserables                                     with probability :   0.852486\n",
      "Drive                                              with probability :   0.852315\n",
      "Midnight_in_Paris                                  with probability :   0.808777\n",
      "The_Girls_with_the_Dragon_Tattoo                   with probability :   0.781265\n",
      "Magic_Mike                                         with probability :   0.615558\n",
      "The_Great_Gatsby                                   with probability :   0.594119\n",
      "Frozen                                             with probability :   0.560564\n",
      "Thor                                               with probability :   0.470917\n",
      "Pitch_Perfect                                      with probability :   0.421858\n",
      "Toy_Story_3                                        with probability :   0.321624\n",
      "Room                                               with probability :   0.285091\n",
      "Bridemaids                                         with probability :   0.150139\n",
      "The_Help                                           with probability :   0.003057\n",
      "Harry_Potter_and_the_Deathly_Hallows:_Part_1       with probability :   0.001618\n"
     ]
    }
   ],
   "source": [
    "for i in sorted(moviesr.items(),key=lambda k : -k[1]):\n",
    "    print \"{0:50s} with probability : {1:10f}\".format(movies[i[0]],i[1])"
   ]
  }
 ],
 "metadata": {
  "kernelspec": {
   "display_name": "Python 2",
   "language": "python",
   "name": "python2"
  },
  "language_info": {
   "codemirror_mode": {
    "name": "ipython",
    "version": 2
   },
   "file_extension": ".py",
   "mimetype": "text/x-python",
   "name": "python",
   "nbconvert_exporter": "python",
   "pygments_lexer": "ipython2",
   "version": "2.7.13"
  }
 },
 "nbformat": 4,
 "nbformat_minor": 2
}

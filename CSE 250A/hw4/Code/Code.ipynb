{
 "cells": [
  {
   "cell_type": "code",
   "execution_count": 44,
   "metadata": {
    "collapsed": true
   },
   "outputs": [],
   "source": [
    "import math\n",
    "import numpy as np"
   ]
  },
  {
   "cell_type": "code",
   "execution_count": 20,
   "metadata": {},
   "outputs": [],
   "source": [
    "f = open('nasdaq00.txt','r')\n",
    "p0 = [float(k) for k in f.read().split('\\n')]\n",
    "f.close()\n",
    "f = open('nasdaq01.txt','r')\n",
    "p1 = [float(k) for k in f.read().split('\\n')]\n",
    "f.close()"
   ]
  },
  {
   "cell_type": "code",
   "execution_count": 142,
   "metadata": {},
   "outputs": [],
   "source": [
    "b = list()\n",
    "x = list()\n",
    "for i in range(3,len(p0)):\n",
    "    b.append(p0[i])\n",
    "    x.append([p0[i-1],p0[i-2],p0[i-3]])\n",
    "b=np.array(b)\n",
    "x=np.matrix(x)"
   ]
  },
  {
   "cell_type": "code",
   "execution_count": 144,
   "metadata": {},
   "outputs": [
    {
     "data": {
      "text/plain": [
       "matrix([[ 0.95067337,  0.01560133,  0.03189569]])"
      ]
     },
     "execution_count": 144,
     "metadata": {},
     "output_type": "execute_result"
    }
   ],
   "source": [
    "pinvx = np.linalg.pinv(x)\n",
    "coeff = pinvx.dot(b)"
   ]
  },
  {
   "cell_type": "code",
   "execution_count": 148,
   "metadata": {},
   "outputs": [
    {
     "name": "stdout",
     "output_type": "stream",
     "text": [
      "0.950673366139 0.015601330776 0.0318956851587\n"
     ]
    }
   ],
   "source": [
    "a = np.array(coeff)[0][0]\n",
    "b = np.array(coeff)[0][1]\n",
    "c = np.array(coeff)[0][2]\n",
    "print a,b,c"
   ]
  },
  {
   "cell_type": "code",
   "execution_count": 154,
   "metadata": {},
   "outputs": [],
   "source": [
    "err0 = 0.0\n",
    "for i in range(3,len(p0)):\n",
    "    err0+=(a*p0[i-1] + b*p0[i-2] + c*p0[i-3] - p0[i])**2\n",
    "err0/=(len(p0)-3)*1.0"
   ]
  },
  {
   "cell_type": "code",
   "execution_count": 155,
   "metadata": {},
   "outputs": [],
   "source": [
    "err1 = 0.0\n",
    "for i in range(3,len(p1)):\n",
    "    err1+=(a*p1[i-1] + b*p1[i-2] + c*p1[i-3] - p1[i])**2\n",
    "err1/=(len(p1)-3)*1.0"
   ]
  },
  {
   "cell_type": "code",
   "execution_count": 156,
   "metadata": {},
   "outputs": [
    {
     "data": {
      "text/plain": [
       "13902.401076367885"
      ]
     },
     "execution_count": 156,
     "metadata": {},
     "output_type": "execute_result"
    }
   ],
   "source": [
    "err0"
   ]
  },
  {
   "cell_type": "code",
   "execution_count": 157,
   "metadata": {},
   "outputs": [
    {
     "data": {
      "text/plain": [
       "2985.0979241118839"
      ]
     },
     "execution_count": 157,
     "metadata": {},
     "output_type": "execute_result"
    }
   ],
   "source": [
    "err1"
   ]
  }
 ],
 "metadata": {
  "kernelspec": {
   "display_name": "Python 2",
   "language": "python",
   "name": "python2"
  },
  "language_info": {
   "codemirror_mode": {
    "name": "ipython",
    "version": 2
   },
   "file_extension": ".py",
   "mimetype": "text/x-python",
   "name": "python",
   "nbconvert_exporter": "python",
   "pygments_lexer": "ipython2",
   "version": "2.7.13"
  }
 },
 "nbformat": 4,
 "nbformat_minor": 2
}
